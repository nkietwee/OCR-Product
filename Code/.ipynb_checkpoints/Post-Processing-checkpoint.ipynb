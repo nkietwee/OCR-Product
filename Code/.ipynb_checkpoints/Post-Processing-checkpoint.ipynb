{
 "cells": [
  {
   "cell_type": "code",
   "execution_count": 26,
   "id": "cd4474ef-80cc-4f1f-82b0-5edf43ee41ad",
   "metadata": {},
   "outputs": [],
   "source": [
    "from pythainlp.word_vector import WordVector"
   ]
  },
  {
   "cell_type": "code",
   "execution_count": 27,
   "id": "1008a2d3-68ad-4c8c-8b20-2089836a7d9b",
   "metadata": {},
   "outputs": [
    {
     "name": "stdout",
     "output_type": "stream",
     "text": [
      "['__class__', '__delattr__', '__dict__', '__dir__', '__doc__', '__eq__', '__format__', '__ge__', '__getattribute__', '__getstate__', '__gt__', '__hash__', '__init__', '__init_subclass__', '__le__', '__lt__', '__module__', '__ne__', '__new__', '__reduce__', '__reduce_ex__', '__repr__', '__setattr__', '__sizeof__', '__str__', '__subclasshook__', '__weakref__', 'doesnt_match', 'get_model', 'load_wordvector', 'most_similar_cosmul', 'sentence_vectorizer', 'similarity']\n"
     ]
    }
   ],
   "source": [
    "print(dir(WordVector))"
   ]
  },
  {
   "cell_type": "code",
   "execution_count": 28,
   "id": "6db1d38e-7bcd-4c93-8441-9901677658b5",
   "metadata": {},
   "outputs": [],
   "source": [
    "wv = WordVector()\n",
    "model = wv.get_model()"
   ]
  },
  {
   "cell_type": "code",
   "execution_count": 31,
   "id": "4040f835-a4a5-46a2-82c0-c56f1241f699",
   "metadata": {},
   "outputs": [
    {
     "name": "stdout",
     "output_type": "stream",
     "text": [
      "สุรา\n",
      "แอลกอฮอล์\n"
     ]
    }
   ],
   "source": [
    "# correct\n",
    "from pythainlp.spell import NorvigSpellChecker\n",
    "\n",
    "# Create a custom frequency dictionary\n",
    "custom_dict = {\n",
    "    \"สุรา\": 100,\n",
    "    \"แอลกอฮอล์\": 250,\n",
    "}\n",
    "\n",
    "# Initialize the Norvig Spell Checker with the custom dictionary\n",
    "spell_checker = NorvigSpellChecker(custom_dict)\n",
    "\n",
    "# Check correction for \"สา\"\n",
    "word1 = \"สา\"\n",
    "corrected_word1  = spell_checker.correct(word1)\n",
    "print(corrected_word1)  # Output: สุรา\n",
    "\n",
    "# Check correction for \"แอลกอฮอล\"\n",
    "word2 = \"แอลกอฮอล่\"\n",
    "corrected_word2 = spell_checker.correct(word2)\n",
    "print(corrected_word2)  # Output: แอลกอฮอล์"
   ]
  },
  {
   "cell_type": "markdown",
   "id": "d1bc2eb1-aca7-4ad0-bd31-c52873e0b2d8",
   "metadata": {},
   "source": [
    "## Addition"
   ]
  },
  {
   "cell_type": "code",
   "execution_count": 43,
   "id": "c2d92d33-1071-4c2a-859e-3c12f0430efb",
   "metadata": {},
   "outputs": [
    {
     "name": "stdout",
     "output_type": "stream",
     "text": [
      "('เหล้า', 0.7780956029891968)\n",
      "('แอลกอฮอล์', 0.7741104960441589)\n",
      "('กาแฟ', 0.7545859813690186)\n",
      "('ฝิ่น', 0.7279547452926636)\n",
      "('ยาพิษ', 0.7274141311645508)\n",
      "('ไวน์', 0.7197145819664001)\n",
      "('เครื่องดื่ม', 0.7103678584098816)\n",
      "('ยาเสพติด', 0.7058990001678467)\n",
      "('บุหรี่', 0.7045491337776184)\n",
      "('ยาสูบ', 0.6950832009315491)\n"
     ]
    }
   ],
   "source": [
    "# Find similar word\n",
    "list_positive = ['สุรา']\n",
    "list_negative = []\n",
    "\n",
    "word_pythai = model.key_to_index\n",
    "# Check if he words are in the model's vocabulary\n",
    "valid_positive = [word for word in list_positive if word in word_pythai]\n",
    "valid_negative = [word for word in list_negative if word in word_pythai]\n",
    "\n",
    "# Ensure lists are not empty before calling most_similar_cosmul\n",
    "if valid_positive or valid_negative:\n",
    "    similar_words = wv.most_similar_cosmul(valid_positive, valid_negative)\n",
    "    for similar_word in similar_words:\n",
    "        print(similar_word)\n",
    "else:\n",
    "    \n",
    "    print(\"No valid words found in the vocabulary.\")"
   ]
  },
  {
   "cell_type": "code",
   "execution_count": 14,
   "id": "8b754162-bf7b-4303-a38e-cc8fd4564d82",
   "metadata": {},
   "outputs": [],
   "source": [
    "# wv.similarity('สุรา', 'สรา')"
   ]
  },
  {
   "cell_type": "code",
   "execution_count": null,
   "id": "81eec6f4-36b7-47c9-9619-86ba367cb13b",
   "metadata": {},
   "outputs": [],
   "source": []
  },
  {
   "cell_type": "code",
   "execution_count": null,
   "id": "3d6bc261-5a73-45c3-b845-08d63898be7f",
   "metadata": {},
   "outputs": [],
   "source": []
  },
  {
   "cell_type": "code",
   "execution_count": null,
   "id": "d87f7bc4-51d4-4f1c-a7d7-994b5e2d8710",
   "metadata": {},
   "outputs": [],
   "source": []
  },
  {
   "cell_type": "code",
   "execution_count": null,
   "id": "13765671-257c-4d13-95ab-aac81c87bc51",
   "metadata": {},
   "outputs": [],
   "source": []
  }
 ],
 "metadata": {
  "kernelspec": {
   "display_name": "Python 3 (ipykernel)",
   "language": "python",
   "name": "python3"
  },
  "language_info": {
   "codemirror_mode": {
    "name": "ipython",
    "version": 3
   },
   "file_extension": ".py",
   "mimetype": "text/x-python",
   "name": "python",
   "nbconvert_exporter": "python",
   "pygments_lexer": "ipython3",
   "version": "3.12.7"
  }
 },
 "nbformat": 4,
 "nbformat_minor": 5
}
